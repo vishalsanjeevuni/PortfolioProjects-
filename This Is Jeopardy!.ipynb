{
 "cells": [
  {
   "cell_type": "code",
   "execution_count": 7,
   "id": "5fdfe4d6",
   "metadata": {},
   "outputs": [],
   "source": [
    "import pandas as pd\n",
    "jeopardy_data = pd.read_csv(\"C:/Users/vishal/Desktop/Projects/Python Projects/jeopardy_starting/jeopardy.csv\")"
   ]
  },
  {
   "cell_type": "code",
   "execution_count": 12,
   "id": "1d457f3d",
   "metadata": {},
   "outputs": [
    {
     "name": "stdout",
     "output_type": "stream",
     "text": [
      "   Show Number    Air Date      Round                         Category Value  \\\n",
      "0         4680  2004-12-31  Jeopardy!                          HISTORY  $200   \n",
      "1         4680  2004-12-31  Jeopardy!  ESPN's TOP 10 ALL-TIME ATHLETES  $200   \n",
      "2         4680  2004-12-31  Jeopardy!      EVERYBODY TALKS ABOUT IT...  $200   \n",
      "3         4680  2004-12-31  Jeopardy!                 THE COMPANY LINE  $200   \n",
      "4         4680  2004-12-31  Jeopardy!              EPITAPHS & TRIBUTES  $200   \n",
      "\n",
      "                                            Question      Answer  \n",
      "0  For the last 8 years of his life, Galileo was ...  Copernicus  \n",
      "1  No. 2: 1912 Olympian; football star at Carlisl...  Jim Thorpe  \n",
      "2  The city of Yuma in this state has a record av...     Arizona  \n",
      "3  In 1963, live on \"The Art Linkletter Show\", th...  McDonald's  \n",
      "4  Signer of the Dec. of Indep., framer of the Co...  John Adams  \n",
      "Index(['Show Number', 'Air Date', 'Round', 'Category', 'Value', 'Question',\n",
      "       'Answer'],\n",
      "      dtype='object')\n"
     ]
    }
   ],
   "source": [
    "print(jeopardy_data.head())\n",
    "#print(jeopardy_data.columns)"
   ]
  },
  {
   "cell_type": "code",
   "execution_count": 18,
   "id": "93d3eb69",
   "metadata": {},
   "outputs": [
    {
     "name": "stdout",
     "output_type": "stream",
     "text": [
      "0         For the last 8 years of his life, Galileo was ...\n",
      "1         No. 2: 1912 Olympian; football star at Carlisl...\n",
      "2         The city of Yuma in this state has a record av...\n",
      "3         In 1963, live on \"The Art Linkletter Show\", th...\n",
      "4         Signer of the Dec. of Indep., framer of the Co...\n",
      "                                ...                        \n",
      "216925    This Puccini opera turns on the solution to 3 ...\n",
      "216926    In North America this term is properly applied...\n",
      "216927    In Penny Lane, where this \"Hellraiser\" grew up...\n",
      "216928    From Ft. Sill, Okla. he made the plea, Arizona...\n",
      "216929    A silent movie title includes the last name of...\n",
      "Name: Question, Length: 216930, dtype: object\n"
     ]
    }
   ],
   "source": [
    "jeopardy_data = jeopardy_data.rename(columns = {\" Air Date\": \"Air Date\", \" Round\" : \"Round\", \" Category\": \"Category\", \" Value\": \"Value\", \" Question\":\"Question\", \" Answer\": \"Answer\"})\n",
    "#print(jeopardy_data.columns)\n",
    "print(jeopardy_data[\"Question\"])"
   ]
  },
  {
   "cell_type": "code",
   "execution_count": 16,
   "id": "ba6e7a6c",
   "metadata": {},
   "outputs": [],
   "source": [
    "def filter_data(data, words):\n",
    "  # Lowercases all words in the list of words as well as the questions. Returns true is all of the words in the list appear in the question.\n",
    "  filter = lambda x: all(word.lower() in x.lower() for word in words)\n",
    "  # Applies the labmda function to the Question column and returns the rows where the function returned True\n",
    "  return data.loc[data[\"Question\"].apply(filter)]"
   ]
  },
  {
   "cell_type": "code",
   "execution_count": 19,
   "id": "63d8c9e8",
   "metadata": {},
   "outputs": [
    {
     "name": "stdout",
     "output_type": "stream",
     "text": [
      "4953      Both England's King George V & FDR put their s...\n",
      "6337      In retaliation for Viking raids, this \"Unready...\n",
      "9191      This king of England beat the odds to trounce ...\n",
      "11710     This Scotsman, the first Stuart king of Englan...\n",
      "13454     It's the number that followed the last king of...\n",
      "                                ...                        \n",
      "208295    In 1066 this great-great grandson of Rollo mad...\n",
      "208742    Dutch-born king who ruled England jointly with...\n",
      "213870    In 1781 William Herschel discovered Uranus & i...\n",
      "216021    His nickname was \"Bertie\", but he used this na...\n",
      "216789    This kingdom of England grew from 2 settlement...\n",
      "Name: Question, Length: 152, dtype: object\n"
     ]
    }
   ],
   "source": [
    "filtered = filter_data(jeopardy_data, [\"King\", \"England\"])\n",
    "print(filtered[\"Question\"])"
   ]
  },
  {
   "cell_type": "code",
   "execution_count": 20,
   "id": "cc46dcf8",
   "metadata": {},
   "outputs": [],
   "source": [
    "# Adding a new column. If the value of the float column is not \"None\", then we cut off the first character (which is a dollar sign), and replace all commas with nothing, and then cast that value to a float. If the answer was \"None\", then we just enter a 0.\n",
    "jeopardy_data[\"Float Value\"] = jeopardy_data[\"Value\"].apply(lambda x: float(x[1:].replace(',','')) if x != \"None\" else 0)"
   ]
  },
  {
   "cell_type": "code",
   "execution_count": 21,
   "id": "047b977d",
   "metadata": {},
   "outputs": [
    {
     "name": "stdout",
     "output_type": "stream",
     "text": [
      "771.8833850722094\n"
     ]
    }
   ],
   "source": [
    "# Filtering the dataset and finding the average value of those questions\n",
    "filtered = filter_data(jeopardy_data, [\"King\"])\n",
    "print(filtered[\"Float Value\"].mean())"
   ]
  },
  {
   "cell_type": "code",
   "execution_count": 22,
   "id": "28ef9bb2",
   "metadata": {},
   "outputs": [],
   "source": [
    "# A function to find the unique answers of a set of data\n",
    "def get_answer_counts(data):\n",
    "    return data[\"Answer\"].value_counts()"
   ]
  },
  {
   "cell_type": "code",
   "execution_count": 23,
   "id": "c24523f0",
   "metadata": {},
   "outputs": [
    {
     "name": "stdout",
     "output_type": "stream",
     "text": [
      "Henry VIII                  55\n",
      "Solomon                     35\n",
      "Richard III                 33\n",
      "Louis XIV                   31\n",
      "David                       30\n",
      "                            ..\n",
      "guacamole                    1\n",
      "a sweat                      1\n",
      "Sweeney Todd                 1\n",
      "The Conversation             1\n",
      "Soviet Union/USSR/Russia     1\n",
      "Name: Answer, Length: 5268, dtype: int64\n"
     ]
    }
   ],
   "source": [
    "# Testing the answer count function\n",
    "print(get_answer_counts(filtered))"
   ]
  },
  {
   "cell_type": "code",
   "execution_count": null,
   "id": "1a3e2334",
   "metadata": {},
   "outputs": [],
   "source": []
  }
 ],
 "metadata": {
  "kernelspec": {
   "display_name": "Python 3",
   "language": "python",
   "name": "python3"
  },
  "language_info": {
   "codemirror_mode": {
    "name": "ipython",
    "version": 3
   },
   "file_extension": ".py",
   "mimetype": "text/x-python",
   "name": "python",
   "nbconvert_exporter": "python",
   "pygments_lexer": "ipython3",
   "version": "3.8.8"
  }
 },
 "nbformat": 4,
 "nbformat_minor": 5
}
